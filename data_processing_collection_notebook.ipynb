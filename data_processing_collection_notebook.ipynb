{
  "nbformat": 4,
  "nbformat_minor": 0,
  "metadata": {
    "colab": {
      "provenance": []
    },
    "kernelspec": {
      "name": "python3",
      "display_name": "Python 3"
    },
    "language_info": {
      "name": "python"
    }
  },
  "cells": [
    {
      "cell_type": "code",
      "source": [
        "pip install git+https://github.com/alainrouillon/py-googletrans@feature/enhance-use-of-direct-api langdetect"
      ],
      "metadata": {
        "id": "9wCX8MInHzDS"
      },
      "execution_count": null,
      "outputs": []
    },
    {
      "cell_type": "code",
      "source": [
        "from googletrans import Translator\n",
        "import numpy as np\n",
        "import pandas as pd\n",
        "from langdetect import detect"
      ],
      "metadata": {
        "id": "Wlnz-fMLH9eF"
      },
      "execution_count": null,
      "outputs": []
    },
    {
      "cell_type": "code",
      "source": [
        "df = pd.read_csv(\"train.tsv\", sep='\\t', header=None)\n",
        "df.head()"
      ],
      "metadata": {
        "id": "PbbGKdQeIIX_"
      },
      "execution_count": null,
      "outputs": []
    },
    {
      "cell_type": "code",
      "source": [
        "df=df.drop(df.columns[[1]],axis=1)\n",
        "df=df.sample(n=1000)\n",
        "df"
      ],
      "metadata": {
        "id": "flUbkmYYIoTF"
      },
      "execution_count": null,
      "outputs": []
    },
    {
      "cell_type": "code",
      "source": [
        "result = pd.DataFrame()"
      ],
      "metadata": {
        "id": "GtO_oazpIt8Y"
      },
      "execution_count": null,
      "outputs": []
    },
    {
      "cell_type": "code",
      "source": [
        "text = list(df[2])\n",
        "text"
      ],
      "metadata": {
        "id": "Mz9AVyzBIy6K"
      },
      "execution_count": null,
      "outputs": []
    },
    {
      "cell_type": "code",
      "source": [
        "translator = Translator(service_urls=['translate.googleapis.com'])"
      ],
      "metadata": {
        "id": "T4eUYAncIfmB"
      },
      "execution_count": null,
      "outputs": []
    },
    {
      "cell_type": "code",
      "source": [
        "translations = []\n",
        "translations.append(translator.translate(text[:100], dest='hi'))"
      ],
      "metadata": {
        "id": "Hw-mmkUVJGJQ"
      },
      "execution_count": null,
      "outputs": []
    },
    {
      "cell_type": "code",
      "source": [
        "translations.append(translator.translate(text[100:200], dest='hi'))"
      ],
      "metadata": {
        "id": "2q2-LImbJKnw"
      },
      "execution_count": null,
      "outputs": []
    },
    {
      "cell_type": "code",
      "source": [
        "translations.append(translator.translate(text[200:300], dest='hi'))"
      ],
      "metadata": {
        "id": "SHeH51maMNHU"
      },
      "execution_count": null,
      "outputs": []
    },
    {
      "cell_type": "code",
      "source": [
        "translations.append(translator.translate(text[300:400], dest='hi'))"
      ],
      "metadata": {
        "id": "4UiXcEk9MUSY"
      },
      "execution_count": null,
      "outputs": []
    },
    {
      "cell_type": "code",
      "source": [
        "translations.append(translator.translate(text[400:500], dest='hi'))"
      ],
      "metadata": {
        "id": "GHAvHSa-MiK4"
      },
      "execution_count": null,
      "outputs": []
    },
    {
      "cell_type": "code",
      "source": [
        "translations.append(translator.translate(text[500:600], dest='hi'))"
      ],
      "metadata": {
        "id": "yHM8qTANNHDL"
      },
      "execution_count": null,
      "outputs": []
    },
    {
      "cell_type": "code",
      "source": [
        "translations.append(translator.translate(text[600:660], dest='hi'))"
      ],
      "metadata": {
        "id": "Ds3KioSuNMUV"
      },
      "execution_count": null,
      "outputs": []
    },
    {
      "cell_type": "code",
      "source": [
        "translations.append(translator.translate(text[700:800], dest='hi'))"
      ],
      "metadata": {
        "id": "RiAeZIomNUZ1"
      },
      "execution_count": null,
      "outputs": []
    },
    {
      "cell_type": "code",
      "source": [
        "translations.append(translator.translate(text[800:900], dest='hi'))"
      ],
      "metadata": {
        "id": "0a3VveNaNYAJ"
      },
      "execution_count": null,
      "outputs": []
    },
    {
      "cell_type": "code",
      "source": [
        "translations.append(translator.translate(text[900:985], dest='hi'))"
      ],
      "metadata": {
        "id": "FqYfghyGNdTv"
      },
      "execution_count": null,
      "outputs": []
    },
    {
      "cell_type": "code",
      "source": [
        "translations_flat = []\n",
        "for trans in translations:\n",
        "  for t in trans:\n",
        "    translations_flat.append(t)\n",
        "# translations_flat"
      ],
      "metadata": {
        "id": "mgzNV5POOjw9"
      },
      "execution_count": null,
      "outputs": []
    },
    {
      "cell_type": "code",
      "source": [
        "len(translations_flat)"
      ],
      "metadata": {
        "id": "9IXZbZOuOmp6"
      },
      "execution_count": null,
      "outputs": []
    },
    {
      "cell_type": "code",
      "source": [
        "texts = []\n",
        "for translation in translations_flat:\n",
        "  texts.append(translation.text)\n",
        "# texts "
      ],
      "metadata": {
        "id": "3-ODFA1NQmeM"
      },
      "execution_count": null,
      "outputs": []
    },
    {
      "cell_type": "code",
      "source": [
        "labelMap = {\n",
        "    'AD': 'Promotion',\n",
        "    'DF':\t'Forum',\n",
        "    'DP':\t'Information/Explanation',\n",
        "    'DS':\t'Information/Explanation',\n",
        "    'DT': 'Information/Explanation',\n",
        "    'ED':\t'Opinion/Argumentation',\n",
        "    'EN':\t'Information/Explanation',\n",
        "    'FH':\t'Instruction',\n",
        "    'FI':\t'Instruction',\n",
        "    'FS':\t'Opinion/Argumentation',\n",
        "    'HA':\t'Information/Explanation',\n",
        "    'HI':\t'Instruction',\n",
        "    'HT':\t'Instruction',\n",
        "    'IB': 'Opinion/Argumentation',\n",
        "    'IT':\t'Opinion/Argumentation',\n",
        "    'LT':\t'Legal',\n",
        "    'LY':\t'Prose/Lyrical',\n",
        "    'MA':\t'Opinion/Argumentation',\n",
        "    # 'NA':\t'Information/Explanation',\n",
        "    'NE':\t'News',\n",
        "    'OB':\t'Opinion/Argumentation',\n",
        "    'OE':\t'Other',\n",
        "    'OF':\t'Other',\n",
        "    'OH':\t'Other',\n",
        "    'OI':\t'Other',\n",
        "    'OL':\t'Other',\n",
        "    'ON':\t'Other',\n",
        "    'OO':\t'Other',\n",
        "    'OP':\t'Other',\n",
        "    'OS':\t'Other',\n",
        "    'OTHER':\t'Other',\n",
        "    'nan': 'Other',\n",
        "    'PA':\t'Opinion/Argumentation',\n",
        "    'PB':\t'Opinion/Argumentation',\n",
        "    'PO':\t'Prose/Lyrical',\n",
        "    'PR':\t'Prose/Lyrical',\n",
        "    'QA':\t'Forum',\n",
        "    'RA':\t'Information/Explanation',\n",
        "    'RE':\t'Instruction',\n",
        "    'RR':\t'Opinion/Argumentation',\n",
        "    'RS':\t'Opinion/Argumentation',\n",
        "    'RV':\t'Opinion/Argumentation',\n",
        "    'SL':\t'Prose/Lyrical',\n",
        "    'SP':\t'Information/Explanation',\n",
        "    'SR':\t'News',\n",
        "    'SS':\t'Prose/Lyrical',\n",
        "    'TA':\t'Information/Explanation',\n",
        "    'TB':\t'Opinion/Argumentation',\n",
        "    'TR':\t'Instruction',\n",
        "    'TS':\t'Instruction',\n",
        "    'TV':\t'Prose/Lyrical',\n",
        "}"
      ],
      "metadata": {
        "id": "GRnfgi0vQ_2a"
      },
      "execution_count": null,
      "outputs": []
    },
    {
      "cell_type": "code",
      "source": [
        "i=0\n",
        "result = pd.DataFrame(columns=[\"text\",\"label\",\"label_s\"])\n",
        "for idx, labels in enumerate(list(df[0])):\n",
        "  if (idx<660 or idx>=700) and idx<985:\n",
        "    label_split = str(labels).split(' ')\n",
        "    for label in label_split:\n",
        "      if label in labelMap:\n",
        "        lang=detect(texts[i][:20])\n",
        "        if lang in ['hi','mr','ne','sa']:\n",
        "          result = result.append({\"text\": texts[i], \"label\": labelMap[label], \"label_s\":label}, ignore_index = True)\n",
        "    i+=1\n",
        "result"
      ],
      "metadata": {
        "id": "cEbc0a8AVeJE"
      },
      "execution_count": null,
      "outputs": []
    },
    {
      "cell_type": "code",
      "source": [
        "new_result = result.groupby(['text','label']).size().reset_index(name='Freq')\n",
        "new_result = new_result.drop(\"Freq\",axis=1)\n",
        "new_result"
      ],
      "metadata": {
        "id": "XX6meuVtgJml"
      },
      "execution_count": null,
      "outputs": []
    },
    {
      "cell_type": "code",
      "source": [
        "new_result.to_csv(\"/content/our_dataset.csv\", encoding='utf-8-sig', index=False)"
      ],
      "metadata": {
        "id": "-YoYjuSSb9Tv"
      },
      "execution_count": null,
      "outputs": []
    },
    {
      "cell_type": "code",
      "source": [],
      "metadata": {
        "id": "dEs3mIal3_pG"
      },
      "execution_count": null,
      "outputs": []
    }
  ]
}