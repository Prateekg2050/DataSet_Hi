{
 "cells": [
  {
   "cell_type": "code",
   "execution_count": 1,
   "id": "eba9ef8d",
   "metadata": {},
   "outputs": [],
   "source": [
    "import pandas as pd"
   ]
  },
  {
   "cell_type": "code",
   "execution_count": null,
   "id": "c8ab0945",
   "metadata": {},
   "outputs": [],
   "source": [
    "df = pd.read_csv('')\n",
    "df"
   ]
  },
  {
   "cell_type": "code",
   "execution_count": null,
   "id": "138350e0",
   "metadata": {},
   "outputs": [],
   "source": [
    "x = list(df[\"message\"])\n",
    "y = list(df[\"label\"])"
   ]
  },
  {
   "cell_type": "code",
   "execution_count": null,
   "id": "785a266a",
   "metadata": {},
   "outputs": [],
   "source": [
    "# make both list as numerics"
   ]
  },
  {
   "cell_type": "code",
   "execution_count": null,
   "id": "d58e5a54",
   "metadata": {},
   "outputs": [],
   "source": [
    "from sklearn.model_selection import train_test_split\n",
    "xtrain , xtest , ytrain , ytest = train_test_split(x,y,test_size = 20, random_state = 0)"
   ]
  },
  {
   "cell_type": "code",
   "execution_count": null,
   "id": "25a8fe59",
   "metadata": {},
   "outputs": [],
   "source": [
    "!pip install transformers"
   ]
  },
  {
   "cell_type": "code",
   "execution_count": null,
   "id": "83639835",
   "metadata": {},
   "outputs": [],
   "source": [
    "from transformers import AutoTokenizer, AutoModelForSequenceClassification\n",
    "\n",
    "tokenizer = AutoTokenizer.from_pretrained(\"classla/xlm-roberta-base-multilingual-text-genre-classifier\")\n",
    "\n",
    "model = AutoModelForSequenceClassification.from_pretrained(\"classla/xlm-roberta-base-multilingual-text-genre-classifier\")"
   ]
  },
  {
   "cell_type": "code",
   "execution_count": null,
   "id": "491cea9c",
   "metadata": {},
   "outputs": [],
   "source": [
    "train_encodings = tokenizer(xtrain, truncation = True, padding = True)\n",
    "test_encodeings = tokenizer(xtest, truncation = True, padding = True)"
   ]
  }
 ],
 "metadata": {
  "kernelspec": {
   "display_name": "Python 3 (ipykernel)",
   "language": "python",
   "name": "python3"
  },
  "language_info": {
   "codemirror_mode": {
    "name": "ipython",
    "version": 3
   },
   "file_extension": ".py",
   "mimetype": "text/x-python",
   "name": "python",
   "nbconvert_exporter": "python",
   "pygments_lexer": "ipython3",
   "version": "3.9.13"
  }
 },
 "nbformat": 4,
 "nbformat_minor": 5
}
