{
 "cells": [
  {
   "cell_type": "code",
   "execution_count": 27,
   "id": "7e697a73",
   "metadata": {},
   "outputs": [],
   "source": [
    "import pandas as pd"
   ]
  },
  {
   "cell_type": "code",
   "execution_count": 72,
   "id": "20e1bca7",
   "metadata": {},
   "outputs": [
    {
     "data": {
      "text/html": [
       "<div>\n",
       "<style scoped>\n",
       "    .dataframe tbody tr th:only-of-type {\n",
       "        vertical-align: middle;\n",
       "    }\n",
       "\n",
       "    .dataframe tbody tr th {\n",
       "        vertical-align: top;\n",
       "    }\n",
       "\n",
       "    .dataframe thead th {\n",
       "        text-align: right;\n",
       "    }\n",
       "</style>\n",
       "<table border=\"1\" class=\"dataframe\">\n",
       "  <thead>\n",
       "    <tr style=\"text-align: right;\">\n",
       "      <th></th>\n",
       "      <th>sentence</th>\n",
       "      <th>sentiment</th>\n",
       "    </tr>\n",
       "  </thead>\n",
       "  <tbody>\n",
       "    <tr>\n",
       "      <th>0</th>\n",
       "      <td>गुमनाम है वतन पर मिटने वाले लोग आतन्कवादियों स...</td>\n",
       "      <td>negative</td>\n",
       "    </tr>\n",
       "    <tr>\n",
       "      <th>1</th>\n",
       "      <td>ज़ंजीर बदली जा रही थी मैं समझा था रिहाई हो गयी है</td>\n",
       "      <td>negative</td>\n",
       "    </tr>\n",
       "    <tr>\n",
       "      <th>2</th>\n",
       "      <td>यूपी में बड़े स्तर पर दंगे करवा सकती है बीजेपी...</td>\n",
       "      <td>negative</td>\n",
       "    </tr>\n",
       "    <tr>\n",
       "      <th>3</th>\n",
       "      <td>अंग्रेजी नहीं आती है इसलिए हिन्दी ट्विट ज्यादा...</td>\n",
       "      <td>negative</td>\n",
       "    </tr>\n",
       "    <tr>\n",
       "      <th>4</th>\n",
       "      <td>कश्मीर में हो रहा है जल जिहाद ।</td>\n",
       "      <td>negative</td>\n",
       "    </tr>\n",
       "  </tbody>\n",
       "</table>\n",
       "</div>"
      ],
      "text/plain": [
       "                                            sentence sentiment\n",
       "0  गुमनाम है वतन पर मिटने वाले लोग आतन्कवादियों स...  negative\n",
       "1  ज़ंजीर बदली जा रही थी मैं समझा था रिहाई हो गयी है  negative\n",
       "2  यूपी में बड़े स्तर पर दंगे करवा सकती है बीजेपी...  negative\n",
       "3  अंग्रेजी नहीं आती है इसलिए हिन्दी ट्विट ज्यादा...  negative\n",
       "4                    कश्मीर में हो रहा है जल जिहाद ।  negative"
      ]
     },
     "execution_count": 72,
     "metadata": {},
     "output_type": "execute_result"
    }
   ],
   "source": [
    "df = pd.read_csv('C:/Users/prate/Downloads/data1.csv')\n",
    "df1 = df[\"sentence\"]\n",
    "\n",
    "df.head()"
   ]
  },
  {
   "cell_type": "code",
   "execution_count": 63,
   "id": "52814fe6",
   "metadata": {},
   "outputs": [],
   "source": [
    "# Import and install the necessary libraries\n",
    "from numba import cuda\n",
    "from itertools import islice\n",
    "import time\n",
    "from tqdm import tqdm\n",
    "\n",
    "# Install transformers\n",
    "!pip install -q transformers\n",
    "\n",
    "# Install the simpletransformers\n",
    "!pip install -q simpletransformers\n",
    "\n",
    "from simpletransformers.classification import ClassificationModel"
   ]
  },
  {
   "cell_type": "code",
   "execution_count": 65,
   "id": "d80f8873",
   "metadata": {},
   "outputs": [
    {
     "data": {
      "application/vnd.jupyter.widget-view+json": {
       "model_id": "4fbcff56f51f4b9692dc770a56cb46fc",
       "version_major": 2,
       "version_minor": 0
      },
      "text/plain": [
       "Downloading:   0%|          | 0.00/1.11G [00:00<?, ?B/s]"
      ]
     },
     "metadata": {},
     "output_type": "display_data"
    },
    {
     "data": {
      "application/vnd.jupyter.widget-view+json": {
       "model_id": "725bf99f6aad429cbf23b07288a83923",
       "version_major": 2,
       "version_minor": 0
      },
      "text/plain": [
       "Downloading:   0%|          | 0.00/477 [00:00<?, ?B/s]"
      ]
     },
     "metadata": {},
     "output_type": "display_data"
    },
    {
     "data": {
      "application/vnd.jupyter.widget-view+json": {
       "model_id": "32966b2deacb42bcadd649df689f0b2e",
       "version_major": 2,
       "version_minor": 0
      },
      "text/plain": [
       "Downloading:   0%|          | 0.00/5.07M [00:00<?, ?B/s]"
      ]
     },
     "metadata": {},
     "output_type": "display_data"
    },
    {
     "data": {
      "application/vnd.jupyter.widget-view+json": {
       "model_id": "95000e1ce1414ec3a28ace2b303f9d43",
       "version_major": 2,
       "version_minor": 0
      },
      "text/plain": [
       "Downloading:   0%|          | 0.00/17.1M [00:00<?, ?B/s]"
      ]
     },
     "metadata": {},
     "output_type": "display_data"
    },
    {
     "data": {
      "application/vnd.jupyter.widget-view+json": {
       "model_id": "e365bd2ec6eb4137908218ddb5a0cafe",
       "version_major": 2,
       "version_minor": 0
      },
      "text/plain": [
       "Downloading:   0%|          | 0.00/280 [00:00<?, ?B/s]"
      ]
     },
     "metadata": {},
     "output_type": "display_data"
    },
    {
     "name": "stderr",
     "output_type": "stream",
     "text": [
      "C:\\Users\\prate\\anaconda3\\lib\\site-packages\\simpletransformers\\classification\\classification_model.py:486: UserWarning: use_multiprocessing automatically disabled as xlmroberta fails when using multiprocessing for feature conversion.\n",
      "  warnings.warn(\n"
     ]
    }
   ],
   "source": [
    "model_args= {\n",
    "            \"num_train_epochs\": 15,\n",
    "            \"learning_rate\": 1e-5,\n",
    "            \"max_seq_length\": 512,\n",
    "             \"silent\": True\n",
    "            }\n",
    "\n",
    "model = ClassificationModel(\n",
    "    \"xlmroberta\",\n",
    "    \"TajaKuzman/xlm-roberta-base-multilingual-text-genres\",\n",
    "    use_cuda=False,\n",
    "    args=model_args\n",
    "    \n",
    ")"
   ]
  },
  {
   "cell_type": "code",
   "execution_count": 66,
   "id": "a2da9a9c",
   "metadata": {},
   "outputs": [
    {
     "name": "stdout",
     "output_type": "stream",
     "text": [
      "['Instruction']\n"
     ]
    }
   ],
   "source": [
    "prediction, logit_output = model.predict([\"How to create a good text classification model? First step is to prepare good data. Make sure not to skip the exploratory data analysis. Pre-process the text if necessary for the task. The next step is to perform hyperparameter search to find the optimum hyperparameters. After fine-tuning the model, you should look into the predictions and analyze the model's performance. You might want to perform the post-processing of data as well and keep only reliable predictions.\"])\n",
    "\n",
    "prediction_label = [model.config.id2label[i] for i in prediction]\n",
    "\n",
    "print(prediction_label)"
   ]
  },
  {
   "cell_type": "code",
   "execution_count": 67,
   "id": "bc485e33",
   "metadata": {},
   "outputs": [],
   "source": [
    "# For genre prediction on a dataset: predict labels to the texts in batches (to make the prediction faster).\n",
    "\n",
    "def predict(dataframe, dataframe_column, final_file):\n",
    "  \"\"\"\n",
    "    The function takes the dataframe with text in column dataframe_column, creates batches of 8,\n",
    "    and applies genre predictions on batches, for faster prediction.\n",
    "    It saves the file with text and predictions with the final_file name.\n",
    "\n",
    "    Args:\n",
    "      - dataframe (pandas Dataframe): specify the dataframe\n",
    "      - dataframe_column (str): specify which column in the dataframe has texts to which you want to predict genres, e.g. (\"docs\")\n",
    "      - final_file: the name of the final file with predictions\n",
    "\n",
    "  \"\"\"\n",
    "    # Split the dataframe into batches\n",
    "    # Create batches of text\n",
    "  def chunk(arr_range, arr_size):\n",
    "      arr_range = iter(arr_range)\n",
    "      return iter(lambda: tuple(islice(arr_range, arr_size)), ())\n",
    "\n",
    "  batches_list = list(chunk(dataframe[dataframe_column], 8))\n",
    "\n",
    "  batches_list_new = []\n",
    "\n",
    "  for i in batches_list:\n",
    "      batches_list_new.append(list(i))\n",
    "\n",
    "  print(\"The dataset is split into {} batches of {} texts.\".format(len(batches_list_new),len(batches_list_new[0])))\n",
    "\n",
    "  y_pred = []\n",
    "\n",
    "  print(\"Prediction started.\")\n",
    "  start_time = time.time()\n",
    "\n",
    "  for i in tqdm(batches_list_new):\n",
    "      output = model.predict(i)\n",
    "      current_y_pred = [model.config.id2label[i] for i in output[0]]\n",
    "\n",
    "      for i in current_y_pred:\n",
    "          y_pred.append(i)\n",
    "\n",
    "  prediction_time = round((time.time() - start_time)/60,2)\n",
    "\n",
    "  print(\"\\n\\nPrediction completed. It took {} minutes for {} instances - {} minutes per one instance.\".format(prediction_time, dataframe.shape[0], prediction_time/dataframe.shape[0]))\n",
    "\n",
    "  dataframe[\"X-GENRE\"] = y_pred\n",
    "\n",
    "  # Save the new dataframe which contains the y_pred values as well\n",
    "  dataframe.to_csv(\"{}\".format(final_file), sep=\"\\t\")\n",
    "\n",
    "  return dataframe"
   ]
  },
  {
   "cell_type": "code",
   "execution_count": 74,
   "id": "933a1202",
   "metadata": {},
   "outputs": [
    {
     "name": "stdout",
     "output_type": "stream",
     "text": [
      "The dataset is split into 1 batches of 5 texts.\n",
      "Prediction started.\n"
     ]
    },
    {
     "name": "stderr",
     "output_type": "stream",
     "text": [
      "100%|██████████| 1/1 [07:35<00:00, 455.82s/it]"
     ]
    },
    {
     "name": "stdout",
     "output_type": "stream",
     "text": [
      "\n",
      "\n",
      "Prediction completed. It took 7.6 minutes for 5 instances - 1.52 minutes per one instance.\n"
     ]
    },
    {
     "name": "stderr",
     "output_type": "stream",
     "text": [
      "\n",
      "C:\\Users\\prate\\AppData\\Local\\Temp\\ipykernel_6092\\946894499.py:46: SettingWithCopyWarning: \n",
      "A value is trying to be set on a copy of a slice from a DataFrame.\n",
      "Try using .loc[row_indexer,col_indexer] = value instead\n",
      "\n",
      "See the caveats in the documentation: https://pandas.pydata.org/pandas-docs/stable/user_guide/indexing.html#returning-a-view-versus-a-copy\n",
      "  dataframe[\"X-GENRE\"] = y_pred\n"
     ]
    }
   ],
   "source": [
    "test_pred_df = predict (df.head(), \"sentence\", \"Hindi-test-sample-predicted.csv\")"
   ]
  },
  {
   "cell_type": "code",
   "execution_count": 75,
   "id": "0b41b345",
   "metadata": {},
   "outputs": [
    {
     "data": {
      "text/html": [
       "<div>\n",
       "<style scoped>\n",
       "    .dataframe tbody tr th:only-of-type {\n",
       "        vertical-align: middle;\n",
       "    }\n",
       "\n",
       "    .dataframe tbody tr th {\n",
       "        vertical-align: top;\n",
       "    }\n",
       "\n",
       "    .dataframe thead th {\n",
       "        text-align: right;\n",
       "    }\n",
       "</style>\n",
       "<table border=\"1\" class=\"dataframe\">\n",
       "  <thead>\n",
       "    <tr style=\"text-align: right;\">\n",
       "      <th></th>\n",
       "      <th>sentence</th>\n",
       "      <th>sentiment</th>\n",
       "      <th>X-GENRE</th>\n",
       "    </tr>\n",
       "  </thead>\n",
       "  <tbody>\n",
       "    <tr>\n",
       "      <th>0</th>\n",
       "      <td>गुमनाम है वतन पर मिटने वाले लोग आतन्कवादियों स...</td>\n",
       "      <td>negative</td>\n",
       "      <td>Information/Explanation</td>\n",
       "    </tr>\n",
       "    <tr>\n",
       "      <th>1</th>\n",
       "      <td>ज़ंजीर बदली जा रही थी मैं समझा था रिहाई हो गयी है</td>\n",
       "      <td>negative</td>\n",
       "      <td>Prose/Lyrical</td>\n",
       "    </tr>\n",
       "    <tr>\n",
       "      <th>2</th>\n",
       "      <td>यूपी में बड़े स्तर पर दंगे करवा सकती है बीजेपी...</td>\n",
       "      <td>negative</td>\n",
       "      <td>News</td>\n",
       "    </tr>\n",
       "    <tr>\n",
       "      <th>3</th>\n",
       "      <td>अंग्रेजी नहीं आती है इसलिए हिन्दी ट्विट ज्यादा...</td>\n",
       "      <td>negative</td>\n",
       "      <td>Other</td>\n",
       "    </tr>\n",
       "    <tr>\n",
       "      <th>4</th>\n",
       "      <td>कश्मीर में हो रहा है जल जिहाद ।</td>\n",
       "      <td>negative</td>\n",
       "      <td>News</td>\n",
       "    </tr>\n",
       "  </tbody>\n",
       "</table>\n",
       "</div>"
      ],
      "text/plain": [
       "                                            sentence sentiment  \\\n",
       "0  गुमनाम है वतन पर मिटने वाले लोग आतन्कवादियों स...  negative   \n",
       "1  ज़ंजीर बदली जा रही थी मैं समझा था रिहाई हो गयी है  negative   \n",
       "2  यूपी में बड़े स्तर पर दंगे करवा सकती है बीजेपी...  negative   \n",
       "3  अंग्रेजी नहीं आती है इसलिए हिन्दी ट्विट ज्यादा...  negative   \n",
       "4                    कश्मीर में हो रहा है जल जिहाद ।  negative   \n",
       "\n",
       "                   X-GENRE  \n",
       "0  Information/Explanation  \n",
       "1            Prose/Lyrical  \n",
       "2                     News  \n",
       "3                    Other  \n",
       "4                     News  "
      ]
     },
     "execution_count": 75,
     "metadata": {},
     "output_type": "execute_result"
    }
   ],
   "source": [
    "test_pred_df.head()"
   ]
  },
  {
   "cell_type": "code",
   "execution_count": null,
   "id": "2ff2404e",
   "metadata": {},
   "outputs": [],
   "source": []
  }
 ],
 "metadata": {
  "kernelspec": {
   "display_name": "Python 3 (ipykernel)",
   "language": "python",
   "name": "python3"
  },
  "language_info": {
   "codemirror_mode": {
    "name": "ipython",
    "version": 3
   },
   "file_extension": ".py",
   "mimetype": "text/x-python",
   "name": "python",
   "nbconvert_exporter": "python",
   "pygments_lexer": "ipython3",
   "version": "3.9.13"
  }
 },
 "nbformat": 4,
 "nbformat_minor": 5
}
